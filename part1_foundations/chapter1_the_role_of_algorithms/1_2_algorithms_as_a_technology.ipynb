{
 "cells": [
  {
   "cell_type": "markdown",
   "metadata": {},
   "source": [
    "## 1.2 Algorithms as a Technology\n",
    "\n",
    "Computational time and memory space are bounded resources.\n",
    "\n",
    "Different algorithms to solve the same problem can differ in their efficiency which is often much more significant than hardware and software differences.\n",
    "\n",
    "Efficiency Example:\n",
    "1. **Insertion sort** takes time $c_1 n^2$ to sort $n$ items.\n",
    "2. **Merge sort** takes time $c_2 n \\log_2{n}$ to sort $n$ items.\n",
    "\n",
    "$c_1 < c_2$ typically. These factors can have far less impact on run time than the input size. Taking common factors out of each term $(c_1 n) \\cdot n$ and $(c_2 n) \\cdot \\log_2{n}$. When $n=1000, \\log_2{n} = 10$ and when $n=10^6, \\log_2{n} = 20.$ Insertion sort may run more quickly for small input sizes, but merge sort becomes more efficient as the input size gets large enough."
   ]
  },
  {
   "cell_type": "code",
   "execution_count": 1,
   "metadata": {},
   "outputs": [
    {
     "name": "stdout",
     "output_type": "stream",
     "text": [
      "[5, 6, 11, 12, 13]\n"
     ]
    }
   ],
   "source": [
    "from typing import List\n",
    "\n",
    "def insertion_sort(arr: List) -> List[any]:\n",
    "    for i in range(1, len(arr)):\n",
    "        key = arr[i]\n",
    "        j = i - 1\n",
    "        while j >= 0 and key < arr[j]:\n",
    "            arr[j + 1] = arr[j]\n",
    "            j -= 1\n",
    "        arr[j + 1] = key\n",
    "    return arr\n",
    "\n",
    "if __name__ == '__main__':\n",
    "    arr = [12, 11, 13, 5, 6]\n",
    "    print(insertion_sort(arr))"
   ]
  },
  {
   "cell_type": "code",
   "execution_count": 2,
   "metadata": {},
   "outputs": [
    {
     "name": "stdout",
     "output_type": "stream",
     "text": [
      "[5, 6, 11, 12, 13]\n"
     ]
    }
   ],
   "source": [
    "from typing import List\n",
    "\n",
    "def merge_sort(arr: List) -> List[any]:\n",
    "    if len(arr) > 1:\n",
    "        mid = len(arr) // 2\n",
    "        L = arr[:mid]\n",
    "        R = arr[mid:]\n",
    "        merge_sort(L)\n",
    "        merge_sort(R)\n",
    "        i = j = k = 0\n",
    "        while i < len(L) and j < len(R):\n",
    "            if L[i] < R[j]:\n",
    "                arr[k] = L[i]\n",
    "                i += 1\n",
    "            else:\n",
    "                arr[k] = R[j]\n",
    "                j += 1\n",
    "            k += 1\n",
    "        while i < len(L):\n",
    "            arr[k] = L[i]\n",
    "            i += 1\n",
    "            k += 1\n",
    "        while j < len(R):\n",
    "            arr[k] = R[j]\n",
    "            j += 1\n",
    "            k += 1\n",
    "    return arr\n",
    "\n",
    "if __name__ == '__main__':\n",
    "    arr = [12, 11, 13, 5, 6]\n",
    "    print(merge_sort(arr))"
   ]
  },
  {
   "cell_type": "markdown",
   "metadata": {},
   "source": [
    "**Problem:**\n",
    "If computer B is 1000 times slower than computer A in raw hardware speed, but uses `merge_sort` while computer A uses `inertion_sort`, how much faster will computer B run the sorting task than computer A? Assume that $c_1 = 2$ and $c_2 = 50.$"
   ]
  },
  {
   "cell_type": "code",
   "execution_count": 3,
   "metadata": {},
   "outputs": [
    {
     "name": "stdout",
     "output_type": "stream",
     "text": [
      "Sorting 10,000,000 numbers:\n",
      "Computer A (Insertion Sort): 20000.00 seconds (5.56 hours)\n",
      "Computer B (Merge Sort): 1162.67 seconds (0.32 hours)\n",
      "\n",
      "Computer B is 17.2x faster despite being 1000x slower in raw speed\n"
     ]
    }
   ],
   "source": [
    "import math\n",
    "import numpy as np\n",
    "\n",
    "# Parameters\n",
    "n = 10_000_000  # 10 million numbers\n",
    "computer_A_speed = 10_000_000_000  # 10 billion instructions per second\n",
    "computer_B_speed = 10_000_000      # 10 million instructions per second\n",
    "insertion_sort_instructions = 2 * (n**2)  # 2n^2 instructions\n",
    "merge_sort_instructions = 50 * n * math.log2(n)  # 50n log n instructions\n",
    "\n",
    "# Calculate execution times\n",
    "computer_A_time = insertion_sort_instructions / computer_A_speed  # seconds\n",
    "computer_B_time = merge_sort_instructions / computer_B_speed     # seconds\n",
    "\n",
    "print(f\"Sorting {n:,} numbers:\")\n",
    "print(f\"Computer A (Insertion Sort): {computer_A_time:.2f} seconds ({computer_A_time/3600:.2f} hours)\")\n",
    "print(f\"Computer B (Merge Sort): {computer_B_time:.2f} seconds ({computer_B_time/3600:.2f} hours)\")\n",
    "print(f\"\\nComputer B is {computer_A_time/computer_B_time:.1f}x faster despite being 1000x slower in raw speed\")"
   ]
  },
  {
   "cell_type": "code",
   "execution_count": 10,
   "metadata": {},
   "outputs": [
    {
     "name": "stdout",
     "output_type": "stream",
     "text": [
      "Actual runtime for 50,000 random numbers:\n",
      "Insertion Sort: 35.13 seconds\n",
      "Merge Sort: 0.08 seconds\n",
      "\n",
      "Merge sort is 414.3x faster\n"
     ]
    }
   ],
   "source": [
    "import time\n",
    "import random\n",
    "import numpy as np\n",
    "\n",
    "n = 50_000  # 50 thousand numbers\n",
    "\n",
    "# Generate random data\n",
    "data = [random.randint(1, 10000) for _ in range(n)]\n",
    "\n",
    "# Test insertion sort\n",
    "arr1 = data.copy()\n",
    "start = time.time()\n",
    "insertion_sort(arr1)\n",
    "insertion_time = time.time() - start\n",
    "\n",
    "# Test merge sort \n",
    "arr2 = data.copy()\n",
    "start = time.time()\n",
    "merge_sort(arr2)\n",
    "merge_time = time.time() - start\n",
    "\n",
    "print(f\"Actual runtime for {n:,} random numbers:\")\n",
    "print(f\"Insertion Sort: {insertion_time:.2f} seconds\")\n",
    "print(f\"Merge Sort: {merge_time:.2f} seconds\")\n",
    "print(f\"\\nMerge sort is {insertion_time/merge_time:.1f}x faster\")"
   ]
  },
  {
   "cell_type": "markdown",
   "metadata": {},
   "source": [
    "How you can estimate how long it will take to run for insertion sort?\n",
    "1. Get your microprocessor (i9-13905H at 2.6 GHz)\n",
    "2. Calculate operations estimate: $(10,0000,000^2)/2 = 5 \\cdot 10^{13}$ (on average)\n",
    "3. Calculate runtime estimate: $5 \\cdot 10^{13} ops/(2.6 \\cdot 10^9 ops/s) = 19,231s/(3600s/h) = 20.2h$"
   ]
  },
  {
   "cell_type": "markdown",
   "metadata": {},
   "source": [
    "Algorithms remain essential despite advances in hardware and software technology. While simple applications may not need complex algorithms, many real-world services do - like mapping applications that require route-finding, map rendering, and address processing.\n",
    "\n",
    "Algorithms are foundational across computing:\n",
    "- Hardware design\n",
    "- GUI systems\n",
    "- Network routing\n",
    "- Programming language processing\n",
    "\n",
    "As computers tackle larger problems, algorithmic efficiency becomes crucial - like the dramatic performance difference between insertion sort and merge sort. This makes algorithmic knowledge a key differentiator between novice and expert programmers."
   ]
  },
  {
   "cell_type": "markdown",
   "metadata": {},
   "source": [
    "## Exercises"
   ]
  },
  {
   "cell_type": "markdown",
   "metadata": {},
   "source": [
    "### 1.2-1\n",
    "Give an example of an application that requires algorithmic content at the application level, and discuss the function of the algorithms involved."
   ]
  },
  {
   "cell_type": "markdown",
   "metadata": {},
   "source": [
    "**Example Application: Ride-Sharing Platform (e.g., Uber, Lyft)**\n",
    "\n",
    "Ride-sharing applications rely heavily on algorithms at the application level to ensure efficient and user-friendly operations.\n",
    "\n",
    "Below are key algorithms and their functions:\n",
    "\n",
    "**Driver-Rider Matching Algorithm**\n",
    "- Function: Connects riders with the most suitable nearby drivers in real time.\n",
    "- Algorithmic Approach:\n",
    "    - Greedy Algorithms: Prioritize proximity and availability for quick matches.\n",
    "    - Bipartite Graph Matching: Models drivers and riders as two sets of nodes, with edges representing feasible matches (e.g., based on distance). Optimization techniques like the Hungarian Algorithm minimize global wait times or travel distances.\n",
    "- Impact: Reduces rider wait times, balances driver workloads, and maximizes service coverage.\n",
    "\n",
    "**Route Optimization Algorithm**\n",
    "- Function: Computes the fastest or shortest route for drivers, incorporating real-time traffic data.\n",
    "- Algorithmic Approach:\n",
    "    - Shortest-Path Algorithms: Dijkstra’s or A* for static routes.\n",
    "    - Contraction Hierarchies: Preprocesses road networks for faster queries in large-scale maps.\n",
    "    - Dynamic Traffic Updates: Adjusts edge weights (e.g., road speeds) in real time using streaming data.\n",
    "- Impact: Minimizes travel time, reduces fuel costs, and improves driver efficiency.\n",
    "\n",
    "**Dynamic Pricing (Surge Pricing) Algorithm**\n",
    "- Function: Adjusts ride prices based on real-time supply (drivers) and demand (riders).\n",
    "- Algorithmic Approach:\n",
    "    - Time-Series Analysis: Monitors demand spikes (e.g., rush hour, events).\n",
    "    - Machine Learning: Predicts demand using historical data, weather, or events to preemptively adjust pricing.\n",
    "    - Threshold-Based Multipliers: Activates surge pricing when rider-to-driver ratios exceed predefined levels.\n",
    "- Impact: Balances supply and demand, incentivizes driver availability during peaks, and maximizes revenue.\n",
    "\n",
    "**ETA (Estimated Time of Arrival) Prediction Algorithm**\n",
    "- Function: Predicts accurate pickup and trip durations.\n",
    "- Algorithmic Approach:\n",
    "    - Regression Models: Use features like traffic patterns, time of day, and road conditions.\n",
    "    - Neural Networks: Train on historical GPS data to predict delays.\n",
    "- Impact: Enhances user trust by providing reliable wait/travel times.\n",
    "\n",
    "**Fraud Detection Algorithm**\n",
    "- Function: Identifies fraudulent activities (e.g., fake rides, GPS spoofing).\n",
    "- Algorithmic Approach:\n",
    "    - Anomaly Detection: Flags unusual patterns (e.g., excessive cancellations).\n",
    "    - Clustering Algorithms: Groups similar ride data to detect outliers.\n",
    "- Impact: Protects revenue and ensures platform integrity.\n",
    "\n",
    "**Summary**\n",
    "\n",
    "These algorithms collectively enable the ride-sharing platform to function seamlessly. Efficient matching and routing ensure operational efficiency, dynamic pricing balances market dynamics, ETA predictions improve transparency, and fraud detection safeguards the system. All are tightly integrated at the application level to deliver a reliable, scalable service."
   ]
  },
  {
   "cell_type": "markdown",
   "metadata": {},
   "source": [
    "### 1.2-2\n",
    "Suppose we are comparing implementations of insertion sort and merge sort on the same machine. For inputs of size n, insertion sort runs in $8n^2$ steps, while merge sort runs in $64 n \\log_2{n}$ steps. For which values of n does insertion sort beat merge sort?"
   ]
  },
  {
   "cell_type": "markdown",
   "metadata": {},
   "source": [
    "To determine when insertion sort outperforms merge sort, we start with the given running times:\n",
    "\n",
    "- Insertion sort: $8n^2$ steps\n",
    "- Merge sort: $64 n \\log_2{⁡n}$ steps\n",
    "\n",
    "We solve the inequality:\n",
    "\n",
    "Dividing both sides by $8n$ (valid for $n>0$):\n",
    "\n",
    "Step-by-Step Solution:\n",
    "\n",
    "1.\tNumerical Analysis: \n",
    "Test integer values of nn to find where $n<8 \\log_2{n}$.\n",
    "- For $n=2$; $2 < 8 \\log_2{2}=8$ → True\n",
    "- For $n=43$; $43 < 8 \\log_2{43}≈43.408$ → True\n",
    "- For $n=44$; $44 < 8 \\log⁡_2{44}≈43.928$ → False\n",
    "\n",
    "2.\tExact Crossover Point:\n",
    "Solve $n=8 \\log_2{n}$ numerically. Using the Newton-Raphson method, the crossover occurs at $n≈43.56$. Since nn must be an integer, insertion sort is faster up to $n=43$.\n",
    "\n",
    "Conclusion:\n",
    "Insertion sort beats merge sort for all integers $2≤n≤43$.\n",
    "\n",
    "Final Answer:\n",
    "Insertion sort is faster than merge sort for all integers $n$ where $2≤n≤43$.\n",
    "\n"
   ]
  },
  {
   "cell_type": "markdown",
   "metadata": {},
   "source": [
    "### 1.2-3\n",
    "What is the smallest value of n such that an algorithm whose running time is $100 n^2$\n",
    "runs faster than an algorithm whose running time is $2^n$ on the same machine?"
   ]
  },
  {
   "cell_type": "markdown",
   "metadata": {},
   "source": [
    "To determine the smallest value of $n$ where $100n^2$ runs faster than $2^n$, we solve the inequality:\n",
    "$$100n^2<2^n$$\n",
    "Step-by-Step Solution:\n",
    "1.\tTest integer values for $n$:\n",
    "- For $n=14$:\n",
    "$100(14)^2=19,600$ vs $2^{14}=16,384$ → $19,600 < 16384$ (False).\n",
    "- For $n=15$:\n",
    "$100(15)^2=22,500$ vs $2^{15}=32,768$ → $22,500<32,768$ (True).\n",
    "2.\tConclusion: \n",
    "- The inequality $100n^2<2^n$ first holds true at $n=15$.\n",
    "\n",
    "Final Answer:\n",
    "- The smallest value of $n$ is $15$.\n"
   ]
  },
  {
   "cell_type": "markdown",
   "metadata": {},
   "source": []
  }
 ],
 "metadata": {
  "kernelspec": {
   "display_name": "Python 3",
   "language": "python",
   "name": "python3"
  },
  "language_info": {
   "codemirror_mode": {
    "name": "ipython",
    "version": 3
   },
   "file_extension": ".py",
   "mimetype": "text/x-python",
   "name": "python",
   "nbconvert_exporter": "python",
   "pygments_lexer": "ipython3",
   "version": "3.10.12"
  }
 },
 "nbformat": 4,
 "nbformat_minor": 2
}
