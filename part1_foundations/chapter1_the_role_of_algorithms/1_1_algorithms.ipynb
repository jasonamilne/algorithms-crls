{
 "cells": [
  {
   "cell_type": "markdown",
   "metadata": {},
   "source": [
    "An algorithm takes a value or set of values as an `input` and produces some value, or set of values, as `output`.\n",
    "\n",
    "**The Sorting Problem:**\n",
    "\n",
    "**input:** a sequence of numbers $<a_1, a_2, \\ldots, a_n>. \\\\$\n",
    "**output:** a permutation of the input $<a'_1, a'_2, \\ldots, a'_n>$ such that $a'_1 \\le a'_2 \\le \\ldots \\le a'_n.$ "
   ]
  },
  {
   "cell_type": "code",
   "execution_count": 13,
   "metadata": {},
   "outputs": [],
   "source": [
    "from typing import List\n",
    "\n",
    "def sort(a: List[any], order=\"increasing\") -> List[any]:\n",
    "    \"\"\"\n",
    "    Description: \n",
    "        Sorting with built-in function sorted()\n",
    "    Psuedocode: \n",
    "        1. If order is increasing, return sorted list of a\n",
    "        2. If order is decreasing, return sorted list of a in reverse order\n",
    "    \"\"\"\n",
    "    if order == \"increasing\":\n",
    "        return sorted(a)\n",
    "    elif order == \"decreasing\":\n",
    "        return sorted(a, reverse=True)"
   ]
  },
  {
   "cell_type": "code",
   "execution_count": 14,
   "metadata": {},
   "outputs": [
    {
     "name": "stdout",
     "output_type": "stream",
     "text": [
      "[26, 31, 41, 41, 58, 59]\n"
     ]
    }
   ],
   "source": [
    "print(sort([31,41,59,26,41,58], order=\"increasing\"))"
   ]
  },
  {
   "cell_type": "code",
   "execution_count": 15,
   "metadata": {},
   "outputs": [
    {
     "name": "stdout",
     "output_type": "stream",
     "text": [
      "[59, 58, 41, 41, 31, 26]\n"
     ]
    }
   ],
   "source": [
    "print(sort([31,41,59,26,41,58], order=\"decreasing\"))"
   ]
  },
  {
   "cell_type": "code",
   "execution_count": 16,
   "metadata": {},
   "outputs": [
    {
     "name": "stdout",
     "output_type": "stream",
     "text": [
      "['a', 'b', 'd', 'e', 'g', 'z']\n"
     ]
    }
   ],
   "source": [
    "print(sort(['a','b','z','g','d','e'], order=\"increasing\"))"
   ]
  },
  {
   "cell_type": "code",
   "execution_count": 17,
   "metadata": {},
   "outputs": [
    {
     "name": "stdout",
     "output_type": "stream",
     "text": [
      "['z', 'g', 'e', 'd', 'b', 'a']\n"
     ]
    }
   ],
   "source": [
    "print(sort(['a','b','z','g','d','e'], order=\"decreasing\"))"
   ]
  },
  {
   "cell_type": "markdown",
   "metadata": {},
   "source": [
    "An algorithm can be specified in English, as a computer program, or even as a hardware design. The only requirement is that the specification must provide a precise description of the computational procedure to be followed."
   ]
  },
  {
   "cell_type": "markdown",
   "metadata": {},
   "source": [
    "**Practical Applications of Algorithms:**\n",
    "- The Human Genome Project has advanced significantly in identifying human genes, sequencing DNA, and developing efficient tools and algorithms for data analysis, enabling cost-effective and time-saving scientific progress.\n",
    "- The Internet relies on advanced algorithms to efficiently manage data, optimize routing, and enable fast retrieval of information through search engines.\n",
    "- Electronic commerce facilitates electronic transactions and relies on numerical algorithms and number theory-based technologies like public-key cryptography and digital signatures to ensure privacy and security.\n",
    "- Manufacturing and commercial enterprises use linear programming to optimize the allocation of scarce resources for maximum benefit in diverse scenarios such as profit maximization, campaign strategies, cost-efficient scheduling, and resource placement."
   ]
  },
  {
   "cell_type": "markdown",
   "metadata": {},
   "source": [
    "**Specific Problem Solutions:**\n",
    "- To find the shortest route on a road map modeled as a graph, we use efficient algorithms to determine the shortest path between two vertices among potentially vast route options.\n",
    "- To efficiently find the longest common subsequence of two ordered symbol sequences, dynamic programming is used to avoid the prohibitive time complexity of comparing all possible subsequences.\n",
    "- Topological sorting efficiently orders the parts of a mechanical design so that each part appears before those that depend on it, avoiding the infeasible task of checking all 𝑛! possible orders.\n",
    "- Finding the convex hull of 𝑛 points in the plane involves determining the smallest convex polygon containing the points, efficiently identifying its vertices and their order from among the $2^n$ possible subsets."
   ]
  },
  {
   "cell_type": "markdown",
   "metadata": {},
   "source": [
    "Many algorithmic problems share two traits: \n",
    "1. They involve numerous candidate solutions, most of which are incorrect or suboptimal.\n",
    "2. They have practical applications, such as optimizing transportation routes to reduce costs or improve efficiency."
   ]
  },
  {
   "cell_type": "markdown",
   "metadata": {},
   "source": [
    "Some algorithmic problems, like computing the discrete Fourier transform (DFT), lack an obvious set of candidate solutions but are vital in signal processing, data compression, and mathematical computations, with efficient solutions like the fast Fourier transform (FFT) enabling practical applications."
   ]
  },
  {
   "cell_type": "markdown",
   "metadata": {},
   "source": [
    "**Data Structures:** Structuring data by storing and organizing data to enable efficient access and modification, and understanding their strengths and limitations is crucial, as no single structure is ideal for all purposes.\n",
    "\n",
    "**Techniques:** This work not only serves as a \"cookbook\" for algorithms but also teaches techniques for algorithm design and analysis, enabling you to develop, verify, and evaluate algorithms for problems that may not have readily available solutions.\n",
    "\n",
    "**Hard problems:** NP-complete problems are intriguing because, although no efficient solutions are known, it remains uncertain whether such solutions exist, and solving one NP-complete problem efficiently would lead to solutions for all others, making them especially relevant in real-world applications where approximation algorithms often provide useful, though not optimal, solutions.\n",
    "\n",
    "**Parallelism:** As processor clock speeds face physical limitations, multicore chips are designed to perform more computations by using parallelism, and algorithms must be developed with parallelism in mind to optimize performance,"
   ]
  },
  {
   "cell_type": "markdown",
   "metadata": {},
   "source": [
    "## Exercises\n",
    "\n",
    "1.1-1 \n",
    "Give a real-world example that requires sorting and a real-world example that requires computing a convex hull.\n",
    "\n",
    "**Real-World Example for Sorting: Task Scheduling**\n",
    "In many real-world applications, sorting is crucial for task scheduling. For example, in operating systems, processes or tasks need to be scheduled in a certain order to maximize performance or meet deadlines. Consider a system that needs to execute multiple tasks based on their priority, but also on the time required to complete them.\n",
    "\n",
    "**Problem:**\n",
    "Given a list of tasks, each with a priority and time to complete, we need to sort the tasks in order of priority first and time second to ensure optimal scheduling."
   ]
  },
  {
   "cell_type": "code",
   "execution_count": 2,
   "metadata": {},
   "outputs": [
    {
     "name": "stdout",
     "output_type": "stream",
     "text": [
      "Sorted tasks:  [(1, 1), (1, 3), (2, 2), (3, 2), (3, 5)]\n"
     ]
    }
   ],
   "source": [
    "# List of tasks (priority, time to complete)\n",
    "tasks = [(3,5), (1,3), (2,2), (3,2), (1,1)]\n",
    "\n",
    "# Sort tasks by priority (ascending) then time to complete (ascending)\n",
    "sorted_tasks = sorted(tasks, key=lambda task: (task[0], task[1])) \n",
    "\n",
    "print(\"Sorted tasks: \", sorted_tasks)"
   ]
  },
  {
   "cell_type": "markdown",
   "metadata": {},
   "source": [
    "**Real-World Example for Convex Hull: GPS Route Optimization**\n",
    "In robotics or autonomous vehicles, when navigating through a set of points (e.g., obstacles or checkpoints), the convex hull can be used to determine the boundary of the area that must be covered. For example, if you are given a set of GPS coordinates of multiple destinations or obstacles in a 2D space, you could use the convex hull to determine the outer boundary that forms the \"convex polygon\" encompassing all points.\n",
    "\n",
    "**Problem:** Given a set of points (representing locations in space), compute the convex hull that forms the smallest convex boundary enclosing all the points. This is helpful in determining the area to avoid obstacles or the shortest path covering all points."
   ]
  },
  {
   "cell_type": "code",
   "execution_count": 3,
   "metadata": {},
   "outputs": [
    {
     "data": {
      "image/png": "[encoded data removed]",
      "text/plain": [
       "<Figure size 640x480 with 1 Axes>"
      ]
     },
     "metadata": {},
     "output_type": "display_data"
    }
   ],
   "source": [
    "import numpy as np\n",
    "from scipy.spatial import ConvexHull\n",
    "import matplotlib.pyplot as plt\n",
    "\n",
    "# GPS coordinates or 2D points\n",
    "points = np.array([[1,1], [3,1], [2,2], [4,3], [5,5], [1,4]])\n",
    "\n",
    "# Convex hull\n",
    "hull = ConvexHull(points)\n",
    "\n",
    "# Plot points on the convex hull\n",
    "plt.plot(points[:,0], points[:,1], 'o')\n",
    "for simplex in hull.simplices:\n",
    "    plt.plot(points[simplex, 0], points[simplex, 1], 'k-')\n",
    "\n",
    "plt.title('Convex Hull of GPS Coordinates')\n",
    "plt.show()"
   ]
  },
  {
   "cell_type": "markdown",
   "metadata": {},
   "source": [
    "1.1-2  Other than speed, what other measures of efficiency might one use in a real-world setting?\n",
    "\n",
    "Here are the key measures of efficiency beyond speed that matter in real-world settings:\n",
    "\n",
    "**Memory Efficiency**\n",
    "\n",
    "- Amount of storage/RAM required\n",
    "- Critical for resource-constrained systems like mobile devices\n",
    "- Includes considerations like in-place operations vs temporary storage\n",
    "\n",
    "**Resource Usage**\n",
    "\n",
    "- Energy consumption, particularly important for battery life and data centers\n",
    "- Cost efficiency in terms of computing resources and operational expenses\n",
    "- Network bandwidth utilization\n",
    "- Cache optimization\n",
    "- Resource contention management in multi-tenant systems\n",
    "\n",
    "**Performance Characteristics**\n",
    "\n",
    "- Throughput: Volume of work processed per time unit\n",
    "- Latency: Response time and delay between input and output\n",
    "- Scalability: Ability to handle increasing workloads\n",
    "- Quality of Service (QoS): Reliability and availability metrics\n",
    "\n",
    "**System Resilience**\n",
    "\n",
    "- Robustness against errors and unexpected inputs\n",
    "- Fault tolerance and recovery capabilities\n",
    "- Ability to maintain performance under stress\n",
    "\n",
    "**Fairness and Access**\n",
    "\n",
    "- Equal resource distribution among users/processes\n",
    "- Prevention of resource monopolization\n",
    "- Balanced workload distribution\n",
    "\n",
    "**Accuracy and Precision**\n",
    "\n",
    "- Correctness of results\n",
    "- Consistency of output\n",
    "- Trade-offs between precision and performance\n",
    "\n",
    "These metrics often involve trade-offs - optimizing one may impact others. The priority depends on specific use case requirements and constraints."
   ]
  },
  {
   "cell_type": "markdown",
   "metadata": {},
   "source": [
    "1.1-3 Select a data structure that you have seen previously, and discuss its strengths and limitations.\n",
    "\n",
    "Graphs consist of nodes/vertices connected by edges, which can be directed or undirected, weighted or unweighted.\n",
    "\n",
    "Strengths:\n",
    "- Model relationships and connections naturally\n",
    "- Efficient for pathfinding, network analysis, and social networks\n",
    "- Support complex queries about connectivity and relationships\n",
    "- Can represent hierarchical and non-hierarchical structures\n",
    "\n",
    "Limitations:\n",
    "- Higher space complexity due to edge storage\n",
    "- Operations like adding/removing edges can be computationally expensive\n",
    "- Complex to implement compared to simpler structures\n",
    "- Graph traversal algorithms can be memory-intensive\n",
    "- Can become difficult to manage with very large datasets\n",
    "\n",
    "Implementation considerations:\n",
    "- Adjacency matrix vs adjacency list representation affects performance\n",
    "- Choice of traversal algorithms impacts efficiency\n",
    "- Memory management crucial for large graphs\n",
    "\n",
    "Real applications include social networks, GPS navigation, recommendation systems, and network routing."
   ]
  },
  {
   "cell_type": "code",
   "execution_count": null,
   "metadata": {},
   "outputs": [
    {
     "name": "stdout",
     "output_type": "stream",
     "text": [
      "Connections | Graph Memory | List Memory | Graph Search | List Search\n",
      "        100 |         4696 |         920 |    0.000001 |   0.000010\n",
      "       1000 |        36960 |        8856 |    0.000001 |   0.000065\n",
      "      10000 |       295000 |       85176 |    0.000001 |   0.000384\n",
      "     100000 |      5242968 |      800984 |    0.000001 |   0.002885\n",
      "    1000000 |     41943136 |     8448728 |    0.000001 |   0.026050\n",
      "   10000000 |    335544408 |    89095160 |    0.000004 |   0.358039\n"
     ]
    }
   ],
   "source": [
    "class Graph:\n",
    "    def __init__(self):\n",
    "        \"\"\"\n",
    "        Description:\n",
    "            Initialize an empty graph\n",
    "        \"\"\"\n",
    "        self.graph = {}\n",
    "    \n",
    "    def add_edge(self, node1, node2):\n",
    "        \"\"\"\n",
    "        Description:\n",
    "            Add an edge between two nodes in the graph\n",
    "        Pseudocode:\n",
    "            1. If node1 is not in the graph, add it to the graph\n",
    "            2. If node2 is not in the graph, add it to the graph\n",
    "            3. Add node2 to the set of neighbors of node1\n",
    "        \"\"\"\n",
    "        if node1 not in self.graph:\n",
    "            self.graph[node1] = set()\n",
    "        if node2 not in self.graph:\n",
    "            self.graph[node2] = set()\n",
    "        self.graph[node1].add(node2)\n",
    "\n",
    "class FriendsList:\n",
    "    def __init__(self):\n",
    "        \"\"\"\n",
    "        Description:\n",
    "            Initialize an empty list of connections\n",
    "        \"\"\"\n",
    "        self.connections = []\n",
    "\n",
    "    def add_connection(self, person1, person2):\n",
    "        \"\"\"\n",
    "        Description:\n",
    "            Add a connection between two people to the list\n",
    "        \"\"\"\n",
    "        self.connections.append((person1, person2))\n",
    "\n",
    "import time\n",
    "import sys\n",
    "\n",
    "def performance_test(n_connections):\n",
    "    \"\"\"\n",
    "    Description:\n",
    "        Test the performance of graph and list data structures\n",
    "    Pseudocode:\n",
    "        1. Allocate graph, list memory\n",
    "        2. Build graph edges and connections\n",
    "        3. Get graph, list size in memory\n",
    "        4. Start timer\n",
    "        5. Graph Search Time\n",
    "        6. List Search Time\n",
    "    \"\"\"\n",
    "    # Allocate graph, list memory\n",
    "    g = Graph()\n",
    "    l = FriendsList()\n",
    "\n",
    "    # Build graph edges and connections\n",
    "    for i in range(n_connections):\n",
    "        g.add_edge(f\"Person{i}\", f\"Person{i+1}\")\n",
    "        l.add_connection(f\"Person{i}\", f\"Person{i+1}\")\n",
    "\n",
    "    # Get graph, list size in memory\n",
    "    graph_size = sys.getsizeof(g.graph)\n",
    "    list_size = sys.getsizeof(l.connections)\n",
    "\n",
    "    # Start timer\n",
    "    start = time.time()\n",
    "\n",
    "    # Graph Search Time\n",
    "    person = \"Person0\"\n",
    "    if person in g.graph:\n",
    "        friends = g.graph[person]\n",
    "    graph_time = time.time() - start\n",
    "\n",
    "    # List Search Time\n",
    "    friends = [c[1] for c in l.connections if c[0] == person]\n",
    "    list_time = time.time() - start\n",
    "\n",
    "    return graph_size, list_size, graph_time, list_time\n",
    "\n",
    "sizes = [10**2, 10**3, 10**4, 10**5, 10**6, 10**7]\n",
    "print(\"Connections | Graph Memory | List Memory | Graph Search | List Search\")\n",
    "for n in sizes:\n",
    "    g_mem, l_mem, g_time, l_time = performance_test(n)\n",
    "    print(f\"{n:11d} | {g_mem:12d} | {l_mem:11d} | {g_time:11.6f} | {l_time:10.6f}\")\n"
   ]
  },
  {
   "cell_type": "markdown",
   "metadata": {},
   "source": [
    "This demonstrates key limitations:\n",
    "\n",
    "- Memory grows with nodes and edges - graph uses more memory than simple list\n",
    "- Search performance degrades with size - list search becomes much slower\n",
    "- Code complexity higher for graph operations"
   ]
  },
  {
   "cell_type": "markdown",
   "metadata": {},
   "source": [
    "1.1-4 How are the shortest-path and traveling-salesman problems given above similar?\n",
    "How are they different?"
   ]
  },
  {
   "cell_type": "markdown",
   "metadata": {},
   "source": [
    "1.1-5\n",
    "Come up with a real-world problem in which only the best solution will do. Then come up with one in which a solution that is “approximately” the best is good enough."
   ]
  }
 ],
 "metadata": {
  "kernelspec": {
   "display_name": "Python 3",
   "language": "python",
   "name": "python3"
  },
  "language_info": {
   "codemirror_mode": {
    "name": "ipython",
    "version": 3
   },
   "file_extension": ".py",
   "mimetype": "text/x-python",
   "name": "python",
   "nbconvert_exporter": "python",
   "pygments_lexer": "ipython3",
   "version": "3.10.12"
  }
 },
 "nbformat": 4,
 "nbformat_minor": 2
}
