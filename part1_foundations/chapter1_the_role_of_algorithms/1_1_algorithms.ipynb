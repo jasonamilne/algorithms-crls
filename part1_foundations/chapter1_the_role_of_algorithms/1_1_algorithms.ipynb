{
 "cells": [
  {
   "cell_type": "markdown",
   "metadata": {},
   "source": [
    "## 1.1 Algorithms\n",
    "\n",
    "An algorithm takes a value or set of values as an `input` and produces some value, or set of values, as `output`.\n",
    "\n",
    "**The Sorting Problem:**\n",
    "\n",
    "- **input:** a sequence of numbers $<a_1, a_2, \\ldots, a_n>.$\n",
    "- **output:** a permutation of the input $<a'_1, a'_2, \\ldots, a'_n>$ such that $a'_1 \\le a'_2 \\le \\ldots \\le a'_n.$"
   ]
  },
  {
   "cell_type": "code",
   "execution_count": 29,
   "metadata": {},
   "outputs": [],
   "source": [
    "from typing import List\n",
    "\n",
    "def sort_me(a: List[any], order: str =\"increasing\") -> List[any]:\n",
    "    \"\"\"\n",
    "    Description: \n",
    "        Sorting with built-in function sorted()\n",
    "    Psuedocode: \n",
    "        1. If order is increasing, return sorted list of a\n",
    "        2. If order is decreasing, return sorted list of a in reverse order\n",
    "        3. If order is neither, raise ValueError\n",
    "    Args:\n",
    "        a (List[any]): List of elements to be sorted\n",
    "        order (str): Order of sorting, either \"increasing\" or \"decreasing\"\n",
    "    Returns:\n",
    "        List[any]: Sorted list of elements\n",
    "    Raises:\n",
    "        ValueError: If order is neither \"increasing\" nor \"decreasing\"\n",
    "    Example:\n",
    "        >>> sort([3, 1, 2], order=\"increasing\")\n",
    "        [1, 2, 3]\n",
    "        >>> sort([3, 1, 2], order=\"decreasing\")\n",
    "        [3, 2, 1]\n",
    "        >>> sort(['c', 'a', 'b'], order=\"increasing\")\n",
    "        ['a', 'b', 'c']\n",
    "        >>> sort(['c, 'a', 'b'], order=\"decreasing\")\n",
    "        ['c', 'b', 'a']\n",
    "        >>> sort([3, 1, 2], order=\"invalid\")\n",
    "        Traceback (most recent call last):\n",
    "            ...\n",
    "        ValueError: order must be either 'increasing' or 'decreasing'\n",
    "    \"\"\"\n",
    "    if order == \"increasing\":\n",
    "        return sorted(a)\n",
    "    elif order == \"decreasing\":\n",
    "        return sorted(a, reverse=True)\n",
    "    else:\n",
    "        raise ValueError(\"order must be either 'increasing' or 'decreasing'\")"
   ]
  },
  {
   "cell_type": "code",
   "execution_count": 30,
   "metadata": {},
   "outputs": [
    {
     "data": {
      "text/plain": [
       "[1, 2, 3]"
      ]
     },
     "execution_count": 30,
     "metadata": {},
     "output_type": "execute_result"
    }
   ],
   "source": [
    "sort_me([3, 1, 2], order=\"increasing\")"
   ]
  },
  {
   "cell_type": "code",
   "execution_count": 25,
   "metadata": {},
   "outputs": [
    {
     "data": {
      "text/plain": [
       "[3, 2, 1]"
      ]
     },
     "execution_count": 25,
     "metadata": {},
     "output_type": "execute_result"
    }
   ],
   "source": [
    "sort_me([3, 1, 2], order=\"decreasing\")"
   ]
  },
  {
   "cell_type": "code",
   "execution_count": 26,
   "metadata": {},
   "outputs": [
    {
     "data": {
      "text/plain": [
       "['a', 'b', 'c']"
      ]
     },
     "execution_count": 26,
     "metadata": {},
     "output_type": "execute_result"
    }
   ],
   "source": [
    "sort_me(['c', 'a', 'b'], order=\"increasing\")"
   ]
  },
  {
   "cell_type": "code",
   "execution_count": 27,
   "metadata": {},
   "outputs": [
    {
     "data": {
      "text/plain": [
       "['c', 'b', 'a']"
      ]
     },
     "execution_count": 27,
     "metadata": {},
     "output_type": "execute_result"
    }
   ],
   "source": [
    "sort_me(['c', 'a', 'b'], order=\"decreasing\")"
   ]
  },
  {
   "cell_type": "code",
   "execution_count": 28,
   "metadata": {},
   "outputs": [
    {
     "ename": "ValueError",
     "evalue": "order must be either 'increasing' or 'decreasing'",
     "output_type": "error",
     "traceback": [
      "\u001b[0;31m---------------------------------------------------------------------------\u001b[0m",
      "\u001b[0;31mValueError\u001b[0m                                Traceback (most recent call last)",
      "Cell \u001b[0;32mIn[28], line 1\u001b[0m\n\u001b[0;32m----> 1\u001b[0m \u001b[43msort_me\u001b[49m\u001b[43m(\u001b[49m\u001b[43m[\u001b[49m\u001b[38;5;241;43m3\u001b[39;49m\u001b[43m,\u001b[49m\u001b[43m \u001b[49m\u001b[38;5;241;43m1\u001b[39;49m\u001b[43m,\u001b[49m\u001b[43m \u001b[49m\u001b[38;5;241;43m2\u001b[39;49m\u001b[43m]\u001b[49m\u001b[43m,\u001b[49m\u001b[43m \u001b[49m\u001b[43morder\u001b[49m\u001b[38;5;241;43m=\u001b[39;49m\u001b[38;5;124;43m\"\u001b[39;49m\u001b[38;5;124;43minvalid\u001b[39;49m\u001b[38;5;124;43m\"\u001b[39;49m\u001b[43m)\u001b[49m \u001b[38;5;66;03m# This will raise a ValueError\u001b[39;00m\n",
      "Cell \u001b[0;32mIn[23], line 37\u001b[0m, in \u001b[0;36msort_me\u001b[0;34m(a, order)\u001b[0m\n\u001b[1;32m     35\u001b[0m     \u001b[38;5;28;01mreturn\u001b[39;00m \u001b[38;5;28msorted\u001b[39m(a, reverse\u001b[38;5;241m=\u001b[39m\u001b[38;5;28;01mTrue\u001b[39;00m)\n\u001b[1;32m     36\u001b[0m \u001b[38;5;28;01melse\u001b[39;00m:\n\u001b[0;32m---> 37\u001b[0m     \u001b[38;5;28;01mraise\u001b[39;00m \u001b[38;5;167;01mValueError\u001b[39;00m(\u001b[38;5;124m\"\u001b[39m\u001b[38;5;124morder must be either \u001b[39m\u001b[38;5;124m'\u001b[39m\u001b[38;5;124mincreasing\u001b[39m\u001b[38;5;124m'\u001b[39m\u001b[38;5;124m or \u001b[39m\u001b[38;5;124m'\u001b[39m\u001b[38;5;124mdecreasing\u001b[39m\u001b[38;5;124m'\u001b[39m\u001b[38;5;124m\"\u001b[39m)\n",
      "\u001b[0;31mValueError\u001b[0m: order must be either 'increasing' or 'decreasing'"
     ]
    }
   ],
   "source": [
    "sort_me([3, 1, 2], order=\"invalid\") # This will raise a ValueError"
   ]
  },
  {
   "cell_type": "markdown",
   "metadata": {},
   "source": [
    "An `algorithm` can be specified in English, as a computer program, or even as a hardware design. The only requirement is that the `specification` must provide a precise description of the computational procedure to be followed."
   ]
  },
  {
   "cell_type": "markdown",
   "metadata": {},
   "source": [
    "**Practical Applications of Algorithms:**\n",
    "- The `Human Genome Project` has advanced significantly in identifying human genes, sequencing DNA, and developing efficient tools and algorithms for data analysis, enabling cost-effective and time-saving scientific progress.\n",
    "- The `Internet` relies on advanced algorithms to efficiently manage data, optimize routing, and enable fast retrieval of information through search engines.\n",
    "- `Electronic commerce` facilitates electronic transactions and relies on numerical algorithms and number theory-based technologies like public-key cryptography and digital signatures to ensure privacy and security.\n",
    "- `Manufacturing and commercial enterprise systems` use linear programming to optimize the allocation of scarce resources for maximum benefit in diverse scenarios such as profit maximization, campaign strategies, cost-efficient scheduling, and resource placement."
   ]
  },
  {
   "cell_type": "markdown",
   "metadata": {},
   "source": [
    "**Specific Problem Solutions:**\n",
    "- To find the shortest route on a road map modeled as a graph, we use efficient algorithms to determine the shortest path between two vertices among potentially vast route options.\n",
    "- To efficiently find the longest common subsequence of two ordered symbol sequences, dynamic programming is used to avoid the prohibitive time complexity of comparing all possible subsequences.\n",
    "- Topological sorting efficiently orders the parts of a mechanical design so that each part appears before those that depend on it, avoiding the infeasible task of checking all 𝑛! possible orders.\n",
    "- Finding the convex hull of 𝑛 points in the plane involves determining the smallest convex polygon containing the points, efficiently identifying its vertices and their order from among the $2^n$ possible subsets."
   ]
  },
  {
   "cell_type": "markdown",
   "metadata": {},
   "source": [
    "Many algorithmic problems share two traits: \n",
    "1. They involve numerous candidate solutions, most of which are incorrect or suboptimal.\n",
    "2. They have practical applications, such as optimizing transportation routes to reduce costs or improve efficiency."
   ]
  },
  {
   "cell_type": "markdown",
   "metadata": {},
   "source": [
    "Some algorithmic problems, like computing the discrete Fourier transform (DFT), lack an obvious set of candidate solutions but are vital in signal processing, data compression, and mathematical computations, with efficient solutions like the fast Fourier transform (FFT) enabling practical applications."
   ]
  },
  {
   "cell_type": "markdown",
   "metadata": {},
   "source": [
    "**Data Structures:** Structuring data by storing and organizing data to enable efficient access and modification, and understanding their strengths and limitations is crucial, as no single structure is ideal for all purposes.\n",
    "\n",
    "**Techniques:** This work not only serves as a \"cookbook\" for algorithms but also teaches techniques for algorithm design and analysis, enabling you to develop, verify, and evaluate algorithms for problems that may not have readily available solutions.\n",
    "\n",
    "**Hard problems:** NP-complete problems are intriguing because, although no efficient solutions are known, it remains uncertain whether such solutions exist, and solving one NP-complete problem efficiently would lead to solutions for all others, making them especially relevant in real-world applications where approximation algorithms often provide useful, though not optimal, solutions.\n",
    "\n",
    "**Parallelism:** As processor clock speeds face physical limitations, multicore chips are designed to perform more computations by using parallelism, and algorithms must be developed with parallelism in mind to optimize performance,"
   ]
  },
  {
   "cell_type": "markdown",
   "metadata": {},
   "source": [
    "## Exercises\n",
    "\n",
    "### 1.1-1 \n",
    "Give a real-world example that requires sorting and a real-world example that requires computing a convex hull."
   ]
  },
  {
   "cell_type": "markdown",
   "metadata": {},
   "source": [
    "**Real-World Example for Sorting: Task Scheduling**\n",
    "In many real-world applications, sorting is crucial for `task scheduling`. For example, in `operating systems`, processes or tasks need to be scheduled in a certain order to maximize performance or meet deadlines. Consider a system that needs to execute multiple tasks based on their priority, but also on the time required to complete them.\n",
    "\n",
    "**Problem:**\n",
    "Given a list of tasks, each with a priority and time to complete, we need to sort the tasks in order of priority first and time second to ensure optimal scheduling."
   ]
  },
  {
   "cell_type": "code",
   "execution_count": 35,
   "metadata": {},
   "outputs": [],
   "source": [
    "def sort_tasks(tasks: List[tuple]) -> List[tuple]:\n",
    "    \"\"\"\n",
    "    Description: \n",
    "        Sort tasks by priority and time to complete\n",
    "    Args:\n",
    "        tasks (List[tuple]): List of tuples containing (priority, time to complete)\n",
    "    Returns:\n",
    "        List[tuple]: Sorted list of tasks\n",
    "    Example:\n",
    "        >>> sort_tasks([(3,5), (1,3), (2,2), (3,2), (1,1)])\n",
    "        [(1, 1), (1, 3), (2, 2), (3, 2), (3, 5)]\n",
    "        >>> sort_tasks([(2, 4), (1, 2), (3, 1), (2, 3)])\n",
    "        [(1, 2), (2, 3), (2, 4), (3, 1)]\n",
    "    \"\"\"\n",
    "    # Sort tasks by priority (ascending) then time to complete (ascending)\n",
    "    return sorted(tasks, key=lambda task: (task[0], task[1]))"
   ]
  },
  {
   "cell_type": "code",
   "execution_count": 36,
   "metadata": {},
   "outputs": [
    {
     "data": {
      "text/plain": [
       "[(1, 1), (1, 3), (2, 2), (3, 2), (3, 5)]"
      ]
     },
     "execution_count": 36,
     "metadata": {},
     "output_type": "execute_result"
    }
   ],
   "source": [
    "sort_tasks([(3,5), (1,3), (2,2), (3,2), (1,1)])"
   ]
  },
  {
   "cell_type": "code",
   "execution_count": 37,
   "metadata": {},
   "outputs": [
    {
     "data": {
      "text/plain": [
       "[(1, 2), (2, 3), (2, 4), (3, 1)]"
      ]
     },
     "execution_count": 37,
     "metadata": {},
     "output_type": "execute_result"
    }
   ],
   "source": [
    "sort_tasks([(2, 4), (1, 2), (3, 1), (2, 3)])"
   ]
  },
  {
   "cell_type": "markdown",
   "metadata": {},
   "source": [
    "**Real-World Example for Convex Hull: GPS Route Optimization**\n",
    "In `robotics` or `autonomous vehicles`, when navigating through a set of points (e.g., obstacles or checkpoints), the convex hull can be used to determine the boundary of the area that must be covered. For example, if you are given a set of GPS coordinates of multiple destinations or obstacles in a 2D space, you could use the convex hull to determine the outer boundary that forms the \"convex polygon\" encompassing all points.\n",
    "\n",
    "**Problem:** Given a set of points (representing locations in space), compute the convex hull that forms the smallest convex boundary enclosing all the points. This is helpful in determining the area to avoid obstacles or the shortest path covering all points."
   ]
  },
  {
   "cell_type": "code",
   "execution_count": 46,
   "metadata": {},
   "outputs": [],
   "source": [
    "import numpy as np\n",
    "from scipy.spatial import ConvexHull\n",
    "import matplotlib.pyplot as plt\n",
    "\n",
    "def plot_convex_hull(points: np.ndarray) -> None:\n",
    "    \"\"\"\n",
    "    Description: \n",
    "        Plot points and their convex hull\n",
    "    Args:\n",
    "        points (np.ndarray): Array of points to plot\n",
    "        hull (ConvexHull): Convex hull object\n",
    "    Returns:\n",
    "        None\n",
    "    Example:\n",
    "        >>> plot_convex_hull(np.array([[1,1], [3,1], [2,2], [4,3], [5,5], [1,4]]))\n",
    "        *This will display a plot of the points and their convex hull.*\n",
    "    \"\"\"\n",
    "    hull = ConvexHull(points)\n",
    "    plt.plot(points[:,0], points[:,1], 'o')\n",
    "    for simplex in hull.simplices:\n",
    "        plt.plot(points[simplex, 0], points[simplex, 1], 'k-')\n",
    "    plt.xlabel('X-axis')\n",
    "    plt.ylabel('Y-axis')\n",
    "    plt.title('Convex Hull')\n",
    "    plt.show()"
   ]
  },
  {
   "cell_type": "code",
   "execution_count": 47,
   "metadata": {},
   "outputs": [
    {
     "data": {
      "image/png": "[encoded data removed]",
      "text/plain": [
       "<Figure size 640x480 with 1 Axes>"
      ]
     },
     "metadata": {},
     "output_type": "display_data"
    }
   ],
   "source": [
    "plot_convex_hull(np.array([[1,1], [3,1], [2,2], [4,3], [5,5], [1,4]]))"
   ]
  },
  {
   "cell_type": "markdown",
   "metadata": {},
   "source": [
    "### 1.1-2  \n",
    "Other than speed, what other measures of efficiency might one use in a real-world setting?\n",
    "\n",
    "Here are the key measures of efficiency beyond speed that matter in real-world settings:\n",
    "\n",
    "**`Memory Efficiency`**\n",
    "\n",
    "- Amount of storage/RAM required\n",
    "- Critical for resource-constrained systems like mobile devices\n",
    "- Includes considerations like in-place operations vs temporary storage\n",
    "\n",
    "**`Resource Usage`**\n",
    "\n",
    "- Energy consumption, particularly important for battery life and data centers\n",
    "- Cost efficiency in terms of computing resources and operational expenses\n",
    "- Network bandwidth utilization\n",
    "- Cache optimization\n",
    "- Resource contention management in multi-tenant systems\n",
    "\n",
    "**`Performance Characteristics`**\n",
    "\n",
    "- Throughput: Volume of work processed per time unit\n",
    "- Latency: Response time and delay between input and output\n",
    "- Scalability: Ability to handle increasing workloads\n",
    "- Quality of Service (QoS): Reliability and availability metrics\n",
    "\n",
    "**`System Resilience`**\n",
    "\n",
    "- Robustness against errors and unexpected inputs\n",
    "- Fault tolerance and recovery capabilities\n",
    "- Ability to maintain performance under stress\n",
    "\n",
    "**`Fairness and Access`**\n",
    "\n",
    "- Equal resource distribution among users/processes\n",
    "- Prevention of resource monopolization\n",
    "- Balanced workload distribution\n",
    "\n",
    "**`Accuracy and Precision`**\n",
    "\n",
    "- Correctness of results\n",
    "- Consistency of output\n",
    "- Trade-offs between precision and performance\n",
    "\n",
    "These metrics often involve trade-offs - optimizing one may impact others. The priority depends on specific use case requirements and constraints."
   ]
  },
  {
   "cell_type": "markdown",
   "metadata": {},
   "source": [
    "### 1.1-3 \n",
    "Select a `data structure` that you have seen previously, and discuss its strengths and limitations.\n",
    "\n",
    "`Graphs` consist of nodes/vertices connected by edges, which can be directed or undirected, weighted or unweighted.\n",
    "\n",
    "Strengths:\n",
    "- Model relationships and connections naturally\n",
    "- Efficient for pathfinding, network analysis, and social networks\n",
    "- Support complex queries about connectivity and relationships\n",
    "- Can represent hierarchical and non-hierarchical structures\n",
    "\n",
    "Limitations:\n",
    "- Higher space complexity due to edge storage\n",
    "- Operations like adding/removing edges can be computationally expensive\n",
    "- Complex to implement compared to simpler structures\n",
    "- Graph traversal algorithms can be memory-intensive\n",
    "- Can become difficult to manage with very large datasets\n",
    "\n",
    "Implementation considerations:\n",
    "- Adjacency matrix vs adjacency list representation affects performance\n",
    "- Choice of traversal algorithms impacts efficiency\n",
    "- Memory management crucial for large graphs\n",
    "\n",
    "Real applications include `social networks`, `GPS navigation`, `recommendation systems`, and `network routing`."
   ]
  },
  {
   "cell_type": "code",
   "execution_count": 49,
   "metadata": {},
   "outputs": [
    {
     "name": "stdout",
     "output_type": "stream",
     "text": [
      "Connections | Graph Memory | List Memory | Graph Search | List Search\n",
      "        100 |         4696 |         920 |    0.000000 |   0.000005\n",
      "       1000 |        36960 |        8856 |    0.000001 |   0.000020\n",
      "      10000 |       295000 |       85176 |    0.000000 |   0.000357\n",
      "     100000 |      5242968 |      800984 |    0.000001 |   0.002547\n",
      "    1000000 |     41943136 |     8448728 |    0.000001 |   0.025033\n",
      "   10000000 |    335544408 |    89095160 |    0.000002 |   0.275333\n"
     ]
    }
   ],
   "source": [
    "class Graph:\n",
    "    def __init__(self):\n",
    "        \"\"\"\n",
    "        Description:\n",
    "            Initialize an empty graph\n",
    "        \"\"\"\n",
    "        self.graph = {}\n",
    "    \n",
    "    def add_edge(self, node1, node2):\n",
    "        \"\"\"\n",
    "        Description:\n",
    "            Add an edge between two nodes in the graph\n",
    "        Pseudocode:\n",
    "            1. If node1 is not in the graph, add it to the graph\n",
    "            2. If node2 is not in the graph, add it to the graph\n",
    "            3. Add node2 to the set of neighbors of node1\n",
    "        \"\"\"\n",
    "        if node1 not in self.graph:\n",
    "            self.graph[node1] = set()\n",
    "        if node2 not in self.graph:\n",
    "            self.graph[node2] = set()\n",
    "        self.graph[node1].add(node2)\n",
    "\n",
    "class FriendsList:\n",
    "    def __init__(self):\n",
    "        \"\"\"\n",
    "        Description:\n",
    "            Initialize an empty list of connections\n",
    "        \"\"\"\n",
    "        self.connections = []\n",
    "\n",
    "    def add_connection(self, person1, person2):\n",
    "        \"\"\"\n",
    "        Description:\n",
    "            Add a connection between two people to the list\n",
    "        \"\"\"\n",
    "        self.connections.append((person1, person2))\n",
    "\n",
    "import time\n",
    "import sys\n",
    "\n",
    "def performance_test(n_connections):\n",
    "    \"\"\"\n",
    "    Description:\n",
    "        Test the performance of graph and list data structures\n",
    "    Pseudocode:\n",
    "        1. Allocate graph, list memory\n",
    "        2. Build graph edges and connections\n",
    "        3. Get graph, list size in memory\n",
    "        4. Start timer\n",
    "        5. Graph Search Time\n",
    "        6. List Search Time\n",
    "    \"\"\"\n",
    "    # Allocate graph, list memory\n",
    "    g = Graph()\n",
    "    l = FriendsList()\n",
    "\n",
    "    # Build graph edges and connections\n",
    "    for i in range(n_connections):\n",
    "        g.add_edge(f\"Person{i}\", f\"Person{i+1}\")\n",
    "        l.add_connection(f\"Person{i}\", f\"Person{i+1}\")\n",
    "\n",
    "    # Get graph, list size in memory\n",
    "    graph_size = sys.getsizeof(g.graph)\n",
    "    list_size = sys.getsizeof(l.connections)\n",
    "\n",
    "    # Start timer\n",
    "    start = time.time()\n",
    "\n",
    "    # Graph Search Time\n",
    "    person = \"Person0\"\n",
    "    if person in g.graph:\n",
    "        friends = g.graph[person]\n",
    "    graph_time = time.time() - start\n",
    "\n",
    "    # List Search Time\n",
    "    friends = [c[1] for c in l.connections if c[0] == person]\n",
    "    list_time = time.time() - start\n",
    "\n",
    "    return graph_size, list_size, graph_time, list_time\n",
    "\n",
    "sizes = [10**2, 10**3, 10**4, 10**5, 10**6, 10**7]\n",
    "print(\"Connections | Graph Memory | List Memory | Graph Search | List Search\")\n",
    "for n in sizes:\n",
    "    g_mem, l_mem, g_time, l_time = performance_test(n)\n",
    "    print(f\"{n:11d} | {g_mem:12d} | {l_mem:11d} | {g_time:11.6f} | {l_time:10.6f}\")\n"
   ]
  },
  {
   "cell_type": "markdown",
   "metadata": {},
   "source": [
    "This demonstrates `limitations` of `Graph data structures`:\n",
    "\n",
    "- Memory grows with nodes and edges - graph uses more memory than simple list\n",
    "- Search performance degrades with size - list search becomes much slower\n",
    "- Code complexity higher for graph operations"
   ]
  },
  {
   "cell_type": "markdown",
   "metadata": {},
   "source": [
    "### 1.1-4 \n",
    "How are the shortest-path and traveling-salesman problems given above similar? How are they different?\n",
    "\n",
    "We are given a road map on which the distance between each pair of adjacent intersections is marked, and we wish to determine the `shortest route` from one intersection to another. The number of possible routes can be huge, even if we disallow routes that cross over themselves. How do we choose which of all possible routes is the shortest? Here, we model the road map as a graph, and we wish to find the `shortest path` from one vertex to another in the graph. \n",
    "\n",
    "As a concrete example, consider a delivery company with a central depot. Each  day, it loads up each delivery truck at the depot and sends it around to deliver goods to several addresses. At the end of the day, each truck must end up back at the depot so that it is ready to be loaded for the next day. To reduce costs, the company wants to select an order of delivery stops that yields the lowest overall distance traveled by each truck. This problem is the well-known `traveling-salesman problem`, and it is NP-complete. It has no known efficient algorithm. Under certain assumptions, however, we know of efficient algorithms that give an overall distance which is not too far above the smallest possible. Chapter 35 discusses such “approximation algorithms.”\n",
    "\n",
    "`Shortest-path` and `traveling-salesman` are similar in the sense that they are looking to minimize distance between points.\n",
    "\n",
    "They are different in the sense that:\n",
    "- `Shortest-path` is only considering 2 points out of a set of n points.\n",
    "- `Traveling-salesman` is considering all n points and the shortest path to travel to all n of them.\n"
   ]
  },
  {
   "cell_type": "markdown",
   "metadata": {},
   "source": [
    "### 1.1-5\n",
    "Come up with a real-world problem in which only the best solution will do. Then come up with one in which a solution that is “approximately” the best is good enough."
   ]
  },
  {
   "cell_type": "markdown",
   "metadata": {},
   "source": [
    "Autonomous weaponry systems would only be able to use the **best solution**. Both `false positives` (attacking the wrong target) and `false negatives` (failing to engage a real threat) could result in catastrophic failure, including loss of innocent lives, friendly fire incidents, or mission failure.\n",
    "\n",
    "Finding a driving route for an autonomous car can use a **sub-optimal solutio**n or optimize for various factors, such as road closures, distance, traffic, or sustainability reaons. Good enough may be approximately optimal, therefore 1-2 minutes is not going to result in catastrophic failure, a threat to life, or destruction of property."
   ]
  }
 ],
 "metadata": {
  "kernelspec": {
   "display_name": "Python 3",
   "language": "python",
   "name": "python3"
  },
  "language_info": {
   "codemirror_mode": {
    "name": "ipython",
    "version": 3
   },
   "file_extension": ".py",
   "mimetype": "text/x-python",
   "name": "python",
   "nbconvert_exporter": "python",
   "pygments_lexer": "ipython3",
   "version": "3.10.12"
  }
 },
 "nbformat": 4,
 "nbformat_minor": 2
}
