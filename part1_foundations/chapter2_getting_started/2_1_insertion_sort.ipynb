{
 "cells": [
  {
   "cell_type": "markdown",
   "metadata": {},
   "source": [
    "## 2.1 Insertion Sort\n",
    "\n",
    "**The Sorting Problem:**\n",
    "\n",
    "- **input:** a sequence of numbers $<a_1, a_2, \\ldots, a_n>.$\n",
    "- **output:** a permutation of the input $<a'_1, a'_2, \\ldots, a'_n>$ such that $a'_1 \\le a'_2 \\le \\ldots \\le a'_n.$\n",
    "\n",
    "We sort the sequence (array) of n elements with each element $a_i$ being known as a key."
   ]
  },
  {
   "cell_type": "markdown",
   "metadata": {},
   "source": [
    "**Pseudocode** showing concise algorithm implementation without additional software engineering practices.\n",
    "\n",
    "```\n",
    "INSERTION-SORT(A)\n",
    "1 for j = 2 to A.length\n",
    "2     key = A[j]\n",
    "3     // Insert A[j] into sorted sequence A[1..j-1]\n",
    "4     i = j - 1\n",
    "5     while i > 0 and A[i] > key\n",
    "6         A[i+1] = A[i]\n",
    "7         i = i - 1\n",
    "8     A[i+1] = key\n",
    "```"
   ]
  },
  {
   "cell_type": "markdown",
   "metadata": {},
   "source": [
    "**Pseudocode** showing data abstraction, modularity, error handling and software engineering best practices for production-ready algorithm implementation.\n",
    "\n",
    "```\n",
    "\"\"\"\n",
    "Insertion Sort implementation with complete error handling and type safety.\n",
    "- Input: Array A of comparable elements\n",
    "- Output: Sorted array A\n",
    "- Raises: TypeError, ValueError for invalid inputs\n",
    "\"\"\"\n",
    "\n",
    "INSERTION-SORT(A)\n",
    "   validate_array(A)\n",
    "   sort_array(A)\n",
    "   return A\n",
    "\n",
    "// Core sorting logic\n",
    "sort_array(A)\n",
    "   try\n",
    "       for j = 2 to LENGTH(A)\n",
    "           insert_element(A, j)\n",
    "   catch ERROR e\n",
    "       handle_error(e)\n",
    "\n",
    "// Insert single element into sorted portion\n",
    "insert_element(A, j)\n",
    "   key = A[j]\n",
    "   i = j - 1\n",
    "   while i > 0 and COMPARE(A[i], key) > 0\n",
    "       SWAP(A[i+1], A[i])\n",
    "       i = i - 1\n",
    "   A[i+1] = key\n",
    "\n",
    "// Validation functions\n",
    "validate_array(A)\n",
    "   check_null_or_empty(A)\n",
    "   verify_type_compatibility(A)\n",
    "\n",
    "check_null_or_empty(A)\n",
    "   if A is NULL or LENGTH(A) < 2\n",
    "       raise INVALID_INPUT_ERROR(\"Array must contain at least 2 elements\")\n",
    "\n",
    "verify_type_compatibility(A)\n",
    "   base_type = TYPE-OF(A[1])\n",
    "   for i = 2 to LENGTH(A)\n",
    "       if not SAME_TYPE(A[i], base_type)\n",
    "           raise TYPE_ERROR(f\"Element at index {i} has incorrect type\")\n",
    "\n",
    "// Helper functions \n",
    "COMPARE(x, y)\n",
    "   if not SAME_TYPE(x, y)\n",
    "       raise TYPE_ERROR(\"Cannot compare different types\")\n",
    "   return x - y\n",
    "\n",
    "SWAP(x, y)\n",
    "   temp = x\n",
    "   x = y\n",
    "   y = temp\n",
    "\n",
    "// Error handling\n",
    "handle_error(e)\n",
    "   log_error(e)\n",
    "   raise e\n",
    "```"
   ]
  },
  {
   "cell_type": "markdown",
   "metadata": {},
   "source": [
    "**Loop invariance in Insertion Sort**\n",
    "\n",
    "Like sorting cards - \"The left part stays sorted\"\n",
    "\n",
    "Three key rules:\n",
    "\n",
    "- **Start:** First card starts sorted\n",
    "- **During:** Place each new card to maintain sorted left side\n",
    "- **End:** All cards are sorted\n",
    "\n",
    "Think building sorted blocks - placed blocks stay ordered while adding new ones."
   ]
  },
  {
   "cell_type": "markdown",
   "metadata": {},
   "source": [
    "**Loop Invariance ensures algorithmic correctness**\n",
    "\n",
    "**Initialization:**\n",
    "- Property must be true before first iteration\n",
    "- Like having first element already sorted\n",
    "\n",
    "**Maintenance:**\n",
    "- If true before iteration, stays true after\n",
    "- Like keeping cards sorted as you add new ones\n",
    "\n",
    "**Termination:**\n",
    "- Property helps prove algorithm correctness\n",
    "- When loop ends, full array is sorted"
   ]
  },
  {
   "cell_type": "markdown",
   "metadata": {},
   "source": [
    "**Pseudocode Conventions**\n",
    "\n",
    "1. Indentation & Structure\n",
    "- Indentation shows block structure\n",
    "- \"//\" for comments\n",
    "- return exists function, returns values\n",
    "- error indicates invalid procedure call\n",
    "\n",
    "2. Control Flow\n",
    "- while, for, repeat-until, if-else similar to C/Java\n",
    "- Loop counter keeps final value\n",
    "- to/downto for increment/decrement\n",
    "\n",
    "3. Arrays & Objects\n",
    "- A[i] accesses array elements\n",
    "- A[1..j] shows range\n",
    "- object.attribute for properties\n",
    "- A.length for array size\n",
    "\n",
    "4. Variables & Parameters\n",
    "- Variables local by default\n",
    "- Pass `by value` for primitives\n",
    "- Pass `by pointer` for objects/arrays\n",
    "- NIL for null pointers\n",
    "\n",
    "5. Operators\n",
    "- \"and\"/\"or\" are short-circuiting\n",
    "- Multiple assignment: i = j = e"
   ]
  },
  {
   "cell_type": "markdown",
   "metadata": {},
   "source": [
    "## Exercises"
   ]
  },
  {
   "cell_type": "markdown",
   "metadata": {},
   "source": [
    "### 2.1-1\n",
    "Illustrate the operation of INSERTION-SORT on the\n",
    "array $A = <31,41,59,26,41,58>.$"
   ]
  },
  {
   "cell_type": "code",
   "execution_count": 42,
   "metadata": {},
   "outputs": [
    {
     "name": "stdout",
     "output_type": "stream",
     "text": [
      "j = 0 [31, 41, 59, 26, 41, 58]\n",
      "j = 1 [31, 41, 59, 26, 41, 58]\n",
      "j = 2 [31, 41, 59, 26, 41, 58]\n",
      "swap (26, 59)\n",
      "swap (26, 41)\n",
      "swap (26, 31)\n",
      "j = 3 [26, 31, 41, 59, 41, 58]\n",
      "swap (41, 59)\n",
      "j = 4 [26, 31, 41, 41, 59, 58]\n",
      "swap (58, 59)\n",
      "j = 5 [26, 31, 41, 41, 58, 59]\n"
     ]
    }
   ],
   "source": [
    "\n",
    "A = [31,41,59,26,41,58]\n",
    "print(f\"j = {0}\",A)\n",
    "for j in range(1,len(A)):\n",
    "    key = A[j]\n",
    "    # Insert A[j] into sorted sequence A[1..j-1]\n",
    "    i = j - 1\n",
    "    while i >= 0 and A[i] > key:\n",
    "        A[i+1] = A[i]\n",
    "        print(f\"swap ({key}, {A[i]})\")\n",
    "        i = i - 1\n",
    "    A[i+1] = key\n",
    "    print(f\"j = {j}\", A)"
   ]
  },
  {
   "cell_type": "markdown",
   "metadata": {},
   "source": [
    "### 2.1-2\n",
    "Rewrite the `INSERTION-SORT` procedure to sort into non-increasing instead of non-decreasing order.\n",
    "\n",
    "```\n",
    "INSERTION-SORT(A)\n",
    "1 for j = 2 to A.length\n",
    "2     key = A[j]\n",
    "3     // Insert A[j] into sorted sequence A[1..j-1]\n",
    "4     i = j - 1\n",
    "5     while i >= 0 and A[i] < key\n",
    "6         A[i+1] = A[i]\n",
    "7         i = i - 1\n",
    "8     A[i+1] = key\n",
    "```"
   ]
  },
  {
   "cell_type": "code",
   "execution_count": 21,
   "metadata": {},
   "outputs": [],
   "source": [
    "def sort(A, order):\n",
    "    for j in range(1,len(A)):\n",
    "        key = A[j]\n",
    "        # Insert A[j] into sorted sequence A[1..j-1]\n",
    "        i = j - 1\n",
    "        if order == \"increasing\":\n",
    "            while i >= 0 and A[i] > key:\n",
    "                A[i+1] = A[i]\n",
    "                i = i - 1\n",
    "        elif order == \"decreasing\":\n",
    "            while i >=0 and A[i] < key:\n",
    "                A[i+1] = A[i]\n",
    "                i = i - 1\n",
    "        A[i+1] = key\n",
    "    return A"
   ]
  },
  {
   "cell_type": "code",
   "execution_count": 22,
   "metadata": {},
   "outputs": [
    {
     "data": {
      "text/plain": [
       "[5, 4, 3, 1]"
      ]
     },
     "execution_count": 22,
     "metadata": {},
     "output_type": "execute_result"
    }
   ],
   "source": [
    "A = [1,3,5,4]\n",
    "sort(A, \"decreasing\")"
   ]
  },
  {
   "cell_type": "code",
   "execution_count": 23,
   "metadata": {},
   "outputs": [
    {
     "data": {
      "text/plain": [
       "[1, 3, 4, 5]"
      ]
     },
     "execution_count": 23,
     "metadata": {},
     "output_type": "execute_result"
    }
   ],
   "source": [
    "sort(A, \"increasing\")"
   ]
  },
  {
   "cell_type": "markdown",
   "metadata": {},
   "source": [
    "### 2.1-3\n",
    "Consider the searching problem:\n",
    "- **Input:** A sequence of n numbers $A = <a1,a2,\\ldots,a_n>$ and a value $v$.\n",
    "- **Output:** An index $i$ such that $v = A[i]$ or the special value `NIL` if $v$ does not appear in A.\n",
    "\n",
    "Write pseudocode for `LINEAR-SEARCH`, which scans through the sequence, looking for $v$. Using a loop invariant, prove that your algorithm is correct. Make sure that your loop invariant fulfills the three necessary properties."
   ]
  },
  {
   "cell_type": "markdown",
   "metadata": {},
   "source": [
    "# Loop Invariant Proof for Linear Search\n",
    "\n",
    "Given the linear search algorithm:\n",
    "```python\n",
    "def search(A, value):\n",
    "    for i in range(len(A)):\n",
    "        if A[i] == value:\n",
    "            return i\n",
    "    return None\n",
    "```\n",
    "\n",
    "## Loop Invariant\n",
    "At the start of each iteration of the for loop, the subarray A[0..i-1] has been searched, and the value has not been found in any of these positions.\n",
    "\n",
    "## Proof of Correctness\n",
    "\n",
    "### 1. Initialization\n",
    "- Before the first iteration, when i = 0\n",
    "- A[0..i-1] is empty (since i-1 = -1)\n",
    "- Therefore, it is vacuously true that value has not been found in A[0..i-1]\n",
    "- The invariant holds initially\n",
    "\n",
    "### 2. Maintenance\n",
    "- Assume the invariant holds for some iteration i\n",
    "- This means value has not been found in A[0..i-1]\n",
    "- During iteration i:\n",
    "  - If A[i] == value: we return i (correct position found)\n",
    "  - If A[i] != value: we continue to i+1\n",
    "- Either way, for the next iteration, we have verified all elements up to i\n",
    "- Therefore, the invariant holds for i+1\n",
    "\n",
    "### 3. Termination\n",
    "- The loop terminates in two cases:\n",
    "  1. When value is found (return i)\n",
    "  2. When i reaches len(A) (return None)\n",
    "- In case 1: we have found the correct position\n",
    "- In case 2: we have searched A[0..n-1] and found no match\n",
    "- Therefore, when the algorithm terminates, we have either:\n",
    "  - Found the correct position of value\n",
    "  - Or correctly determined value is not in the array\n",
    "\n",
    "## Example with `A = [1,3,70,4]`, value = 70\n",
    "- i = 0: Check A[0] = 1, invariant holds for empty subarray\n",
    "- i = 1: Check A[1] = 3, invariant holds for [1]\n",
    "- i = 2: Check A[2] = 70, found! Return 2\n",
    "- The algorithm correctly returns index 2\n"
   ]
  },
  {
   "cell_type": "markdown",
   "metadata": {},
   "source": [
    "\n",
    "### 2.1-4\n",
    "Consider the problem of adding two $n$-bit binary integers, stored in two $n$-element arrays $A$ and $B$. The sum of the two integers should be stored in binary form in an $(n+1)$-element array $C$. State the problem formally and write pseudocode for adding the two integers.\n"
   ]
  },
  {
   "cell_type": "markdown",
   "metadata": {},
   "source": [
    "**Binary Integer Addition Problem**\n",
    "\n",
    "**Input:** \n",
    "- Two arrays A[1..n] and B[1..n] where each element is either 0 or 1\n",
    "- A represents binary integer $\\sum_{i=1}^n A[i] \\cdot 2^{n-i}$\n",
    "- B represents binary integer $\\sum_{i=1}^n B[i] \\cdot 2^{n-i}$\n",
    "\n",
    "**Output:**\n",
    "- Array C[1..n+1] containing the sum in binary\n",
    "- C represents $\\sum_{i=1}^{n+1} C[i] \\cdot 2^{(n+1)-i}$\n",
    "\n",
    "**Pseudocode:**\n",
    "```\n",
    "BINARY-ADD(A, B, n)\n",
    "    let C[0..n] be a new array\n",
    "    carry = 0\n",
    "    \n",
    "    for i = n downto 1\n",
    "        sum = A[i] + B[i] + carry\n",
    "        C[i+1] = sum mod 2\n",
    "        carry = ⌊sum/2⌋\n",
    "        \n",
    "    C[0] = carry\n",
    "    return C\n",
    "```\n",
    "\n",
    "Example:\n",
    "```\n",
    "A = [1,0,1,1]  // 11 in decimal\n",
    "B = [0,1,1,1]  // 7 in decimal\n",
    "C = [1,0,0,1,0] // 18 in decimal\n",
    "```"
   ]
  },
  {
   "cell_type": "code",
   "execution_count": 49,
   "metadata": {},
   "outputs": [
    {
     "data": {
      "text/plain": [
       "[1, 0, 0, 1, 0]"
      ]
     },
     "execution_count": 49,
     "metadata": {},
     "output_type": "execute_result"
    }
   ],
   "source": [
    "def binary_add(A, B):\n",
    "    'Binary addition of two n-bit binary integers'\n",
    "    n = len(A)\n",
    "    C = [0] * (n+1)\n",
    "    carry = 0\n",
    "\n",
    "    for i in range(n-1, -1, -1):\n",
    "        sum = (A[i] + B[i] + carry)\n",
    "        C[i + 1] = sum % 2\n",
    "        carry = sum // 2\n",
    "    C[0] = carry\n",
    "    return C\n",
    "\n",
    "A = [1,0,1,1]\n",
    "B = [0,1,1,1]\n",
    "\n",
    "binary_add(A,B)\n"
   ]
  },
  {
   "cell_type": "code",
   "execution_count": 46,
   "metadata": {},
   "outputs": [
    {
     "name": "stdout",
     "output_type": "stream",
     "text": [
      "Binary numbers:\n",
      "A: [1, 0, 1, 1] (decimal: 11)\n",
      "B: [0, 1, 1, 1] (decimal: 7)\n",
      "C: [1, 0, 0, 1, 0] (decimal: 18)\n"
     ]
    }
   ],
   "source": [
    "# Create helper function to convert binary array to decimal for verification\n",
    "def binary_to_decimal(arr):\n",
    "    'Convert binary array to decimal'\n",
    "    decimal = 0\n",
    "    power = len(arr) - 1\n",
    "    for bit in arr:\n",
    "        decimal += bit * (2 ** power)\n",
    "        power -= 1\n",
    "    return decimal\n",
    "\n",
    "# Test binary addition and show the process\n",
    "result = binary_add(A, B)\n",
    "\n",
    "print(f\"Binary numbers:\")\n",
    "print(f\"A: {A} (decimal: {binary_to_decimal(A)})\")\n",
    "print(f\"B: {B} (decimal: {binary_to_decimal(B)})\")\n",
    "print(f\"C: {result} (decimal: {binary_to_decimal(result)})\")"
   ]
  }
 ],
 "metadata": {
  "kernelspec": {
   "display_name": "Python 3",
   "language": "python",
   "name": "python3"
  },
  "language_info": {
   "codemirror_mode": {
    "name": "ipython",
    "version": 3
   },
   "file_extension": ".py",
   "mimetype": "text/x-python",
   "name": "python",
   "nbconvert_exporter": "python",
   "pygments_lexer": "ipython3",
   "version": "3.10.12"
  }
 },
 "nbformat": 4,
 "nbformat_minor": 2
}
