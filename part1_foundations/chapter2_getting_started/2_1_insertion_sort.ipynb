{
 "cells": [
  {
   "cell_type": "markdown",
   "metadata": {},
   "source": [
    "## 2.1 Insertion Sort\n",
    "\n",
    "**The Sorting Problem:**\n",
    "\n",
    "- **input:** a sequence of numbers $<a_1, a_2, \\ldots, a_n>.$\n",
    "- **output:** a permutation of the input $<a'_1, a'_2, \\ldots, a'_n>$ such that $a'_1 \\le a'_2 \\le \\ldots \\le a'_n.$\n",
    "\n",
    "We sort the sequence (array) of n elements with each element $a_i$ being known as a key."
   ]
  },
  {
   "cell_type": "markdown",
   "metadata": {},
   "source": [
    "**Pseudocode** showing concise algorithm implementation without additional software engineering practices.\n",
    "\n",
    "```\n",
    "INSERTION-SORT(A)\n",
    "1 for j = 2 to A.length\n",
    "2     key = A[j]\n",
    "3     // Insert A[j] into sorted sequence A[1..j-1]\n",
    "4     i = j - 1\n",
    "5     while i > 0 and A[i] > key\n",
    "6         A[i+1] = A[i]\n",
    "7         i = i - 1\n",
    "8     A[i+1] = key\n",
    "```"
   ]
  },
  {
   "cell_type": "markdown",
   "metadata": {},
   "source": [
    "**Pseudocode** showing data abstraction, modularity, error handling and software engineering best practices for production-ready algorithm implementation.\n",
    "\n",
    "```\n",
    "\"\"\"\n",
    "Insertion Sort implementation with complete error handling and type safety.\n",
    "- Input: Array A of comparable elements\n",
    "- Output: Sorted array A\n",
    "- Raises: TypeError, ValueError for invalid inputs\n",
    "\"\"\"\n",
    "\n",
    "INSERTION-SORT(A)\n",
    "   validate_array(A)\n",
    "   sort_array(A)\n",
    "   return A\n",
    "\n",
    "// Core sorting logic\n",
    "sort_array(A)\n",
    "   try\n",
    "       for j = 2 to LENGTH(A)\n",
    "           insert_element(A, j)\n",
    "   catch ERROR e\n",
    "       handle_error(e)\n",
    "\n",
    "// Insert single element into sorted portion\n",
    "insert_element(A, j)\n",
    "   key = A[j]\n",
    "   i = j - 1\n",
    "   while i > 0 and COMPARE(A[i], key) > 0\n",
    "       SWAP(A[i+1], A[i])\n",
    "       i = i - 1\n",
    "   A[i+1] = key\n",
    "\n",
    "// Validation functions\n",
    "validate_array(A)\n",
    "   check_null_or_empty(A)\n",
    "   verify_type_compatibility(A)\n",
    "\n",
    "check_null_or_empty(A)\n",
    "   if A is NULL or LENGTH(A) < 2\n",
    "       raise INVALID_INPUT_ERROR(\"Array must contain at least 2 elements\")\n",
    "\n",
    "verify_type_compatibility(A)\n",
    "   base_type = TYPE-OF(A[1])\n",
    "   for i = 2 to LENGTH(A)\n",
    "       if not SAME_TYPE(A[i], base_type)\n",
    "           raise TYPE_ERROR(f\"Element at index {i} has incorrect type\")\n",
    "\n",
    "// Helper functions \n",
    "COMPARE(x, y)\n",
    "   if not SAME_TYPE(x, y)\n",
    "       raise TYPE_ERROR(\"Cannot compare different types\")\n",
    "   return x - y\n",
    "\n",
    "SWAP(x, y)\n",
    "   temp = x\n",
    "   x = y\n",
    "   y = temp\n",
    "\n",
    "// Error handling\n",
    "handle_error(e)\n",
    "   log_error(e)\n",
    "   raise e\n",
    "```"
   ]
  },
  {
   "cell_type": "markdown",
   "metadata": {},
   "source": [
    "**Loop invariance in Insertion Sort**\n",
    "\n",
    "Like sorting cards - \"The left part stays sorted\"\n",
    "\n",
    "Three key rules:\n",
    "\n",
    "- **Start:** First card starts sorted\n",
    "- **During:** Place each new card to maintain sorted left side\n",
    "- **End:** All cards are sorted\n",
    "\n",
    "Think building sorted blocks - placed blocks stay ordered while adding new ones."
   ]
  },
  {
   "cell_type": "markdown",
   "metadata": {},
   "source": [
    "**Loop Invariance ensures algorithmic correctness**\n",
    "\n",
    "**Initialization:**\n",
    "- Property must be true before first iteration\n",
    "- Like having first element already sorted\n",
    "\n",
    "**Maintenance:**\n",
    "- If true before iteration, stays true after\n",
    "- Like keeping cards sorted as you add new ones\n",
    "\n",
    "**Termination:**\n",
    "- Property helps prove algorithm correctness\n",
    "- When loop ends, full array is sorted"
   ]
  },
  {
   "cell_type": "markdown",
   "metadata": {},
   "source": [
    "**Pseudocode Conventions**\n",
    "\n",
    "1. Indentation & Structure\n",
    "- Indentation shows block structure\n",
    "- \"//\" for comments\n",
    "- return exists function, returns values\n",
    "- error indicates invalid procedure call\n",
    "\n",
    "2. Control Flow\n",
    "- while, for, repeat-until, if-else similar to C/Java\n",
    "- Loop counter keeps final value\n",
    "- to/downto for increment/decrement\n",
    "\n",
    "3. Arrays & Objects\n",
    "- A[i] accesses array elements\n",
    "- A[1..j] shows range\n",
    "- object.attribute for properties\n",
    "- A.length for array size\n",
    "\n",
    "4. Variables & Parameters\n",
    "- Variables local by default\n",
    "- Pass `by value` for primitives\n",
    "- Pass `by pointer` for objects/arrays\n",
    "- NIL for null pointers\n",
    "\n",
    "5. Operators\n",
    "- \"and\"/\"or\" are short-circuiting\n",
    "- Multiple assignment: i = j = e"
   ]
  },
  {
   "cell_type": "markdown",
   "metadata": {},
   "source": [
    "## Exercises"
   ]
  },
  {
   "cell_type": "markdown",
   "metadata": {},
   "source": [
    "### 2.1-1\n",
    "Using Figure 2.2 as a model, illustrate the operation of INSERTION-SORT on the\n",
    "array $A = <31,41,59,26,41,58>.$"
   ]
  },
  {
   "cell_type": "markdown",
   "metadata": {},
   "source": [
    "### 2.1-2\n",
    "Rewrite the `INSERTION-SORT` procedure to sort into non-increasing instead of non-decreasing order."
   ]
  },
  {
   "cell_type": "markdown",
   "metadata": {},
   "source": [
    "### 2.1-3\n",
    "Consider the searching problem:\n",
    "- **Input:** A sequence of n numbers $A = <a1,a2,\\ldots,a_n>$ and a value $v$.\n",
    "- **Output:** An index $i$ such that $v = A[i]$ or the special value `NIL` if $v$ does not appear in A.\n",
    "\n",
    "Write pseudocode for `LINEAR-SEARCH`, which scans through the sequence, looking for $v$. Using a loop invariant, prove that your algorithm is correct. Make sure that your loop invariant fulfills the three necessary properties."
   ]
  },
  {
   "cell_type": "markdown",
   "metadata": {},
   "source": [
    "\n",
    "### 2.1-4\n",
    "Consider the problem of adding two $n$-bit binary integers, stored in two $n$-element arrays $A$ and $B$. The sum of the two integers should be stored in binary form in an $(n+1)$-element array $C$. State the problem formally and write pseudocode for adding the two integers.\n"
   ]
  }
 ],
 "metadata": {
  "language_info": {
   "name": "python"
  }
 },
 "nbformat": 4,
 "nbformat_minor": 2
}
