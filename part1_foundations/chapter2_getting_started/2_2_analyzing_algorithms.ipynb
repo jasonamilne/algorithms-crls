{
 "cells": [
  {
   "cell_type": "markdown",
   "metadata": {},
   "source": [
    "## 2.2 Analyzing Algorithms"
   ]
  },
  {
   "cell_type": "markdown",
   "metadata": {},
   "source": [
    "**Analyzing** an algorithm has come to mean predicting the resources that the algorithm requires i.e., memory, communication bandwidth, computer hardware, or computational time.\n",
    "\n",
    "**Implementation model** for resources of a technology, their costs, and the technological assumptions.\n",
    "\n",
    "**RAM models** execute instructions on after another, no parallelization.\n",
    "\n",
    "**RAM model instructions**  common in real computers are arithmetic (add, subtract, multiply, divide, remainder, floor, ceiling), data movement (load, store, copy), and control (conditional branches, unconditional branches, subroutine calls, subroutine returns).\n",
    "\n",
    "**Assumptions:**\n",
    "- Each instruction assumes a constant amount of time for execution.\n",
    "- Data types are integer and floating point (for storing real numbers).\n",
    "- The size of each word of data is limited.\n",
    "- For inputs of size n, we assume integers are represented by c lg n bits for some constant $c \\ge 1$.\n",
    "- Require $c \\ge 1$ so each word can hold value of n allowing indexing of individual input elements.\n",
    "- We restrict c to be constant so that the word size does not grow arbitrarily.\n",
    "\n",
    "**Limitations:**\n",
    "\n",
    "\n"
   ]
  },
  {
   "cell_type": "markdown",
   "metadata": {
    "vscode": {
     "languageId": "plaintext"
    }
   },
   "source": [
    "**INSERTION-SORT(A)**\n",
    "\n",
    "| Line | Pseudocode                                                         | Cost    | Times                            |\n",
    "| :--- | :-------------------------------------------------------           | :------ | :------------------------------- |\n",
    "| 1    | **for** $j = 2$ **to** $A.length$                                  | $c_1$   | $n$                              |\n",
    "| 2    | &nbsp;&nbsp;&nbsp;&nbsp; $key = A[j]$                              | $c_2$   | $n-1$                            |\n",
    "| 3    | &nbsp;&nbsp;&nbsp;&nbsp; // Insert $A[j]$ into the sorted <br> &nbsp;&nbsp;&nbsp;&nbsp; // sequence $A[1..j-1]$. | $0$     | $n-1$                            |\n",
    "| 4    | &nbsp;&nbsp;&nbsp;&nbsp; $i = j - 1$                               | $c_4$   | $n-1$                            |\n",
    "| 5    | &nbsp;&nbsp;&nbsp;&nbsp; **while** $i > 0$ **and** $A[i] > key$    | $c_5$   | $\\sum_{j=2}^{n} t_j$             |\n",
    "| 6    | &nbsp;&nbsp;&nbsp;&nbsp;&nbsp;&nbsp;&nbsp;&nbsp; $A[i + 1] = A[i]$ | $c_6$   | $\\sum_{j=2}^{n} (t_j - 1)$ |\n",
    "| 7    | &nbsp;&nbsp;&nbsp;&nbsp;&nbsp;&nbsp;&nbsp;&nbsp; $i = i - 1$       | $c_7$   | $\\sum_{j=2}^{n} (t_j - 1)$ |\n",
    "| 8    | &nbsp;&nbsp;&nbsp;&nbsp; $A[i + 1] = key$                          | $c_8$   | $n-1$                            |"
   ]
  },
  {
   "cell_type": "markdown",
   "metadata": {},
   "source": [
    "$T(N) = c_1 n + c_2 (n-1) + c_4 (n-1) + c_5 \\sum_{j=2}^n t_j + c_6 \\sum_{j=2}^n (t_j - 1) + c_7 \\sum_{j=2}^n(t_j - 1) + c_8 (n-1)$\n",
    "\n",
    "If the array is already sorted, then:\n",
    "\n",
    "$T(N) = c_1 n + c_2 (n-1) + c_4 (n-1) + c_5 (n-1) + c_8(n-1)$\n",
    "$     = (c_1 + c_2 + c_4 + c_5 + c_8) n - (c_2 + c_4 + c_5 + c_8)$\n",
    "\n",
    "If the array is in reverse sorted order, then:\n",
    "\n",
    "$T(N) = c_1 n + c_2 (n-1) + c_4 (n-1) + c_5 (\\dfrac{n(n+1)}{2}-1) + c_6 (\\dfrac{n(n-1)}{2}) + c_7 (\\dfrac{n(n-1)}{2}) + c_8(n-1)$\n",
    "\n",
    "$     = (c_5/2 + c_6/2 + c_7/2) n^2 - (c_1 + c_2 + c_4 + c_5/2 - c_6/2 - c_7/2 + c_8) n - (c_2 + c_4 + c_5 + c_8)$\n",
    "\n",
    "$     = a n^2 + b n + c$\n"
   ]
  },
  {
   "cell_type": "markdown",
   "metadata": {},
   "source": [
    "## Exercises"
   ]
  },
  {
   "cell_type": "markdown",
   "metadata": {},
   "source": [
    "### 2.2-1\n",
    "Express the function $f(n) n^3/1000 - 100n^2 - 100n + 3$ in terms of $\\Theta$-notation.\n",
    "\n",
    "$f(n) = c_1 n^3 - c_2 n^2 - c_3 n + c_4 = \\Theta(n^3)$"
   ]
  },
  {
   "cell_type": "markdown",
   "metadata": {},
   "source": [
    "### 2.2-2\n",
    "Consider sorting $n$ numbers stored in array $A$ by first finding the smallest element of $A$ and exchanging it with the element in $A[1]$. Then find the second smallest element of $A$, and exchange it with $A[2]$. Continue in this manner for the first $n-1$ elements of $A$. Write pseudocode for this algorithm, which is knwn as **selection sort**. What loop invariant does this algorithm maintain? Why does it need to run for only the first $n-1$ elements, rather than for all $n$ elements? Give the best-case and worst-case running times of selection sort in $\\Theta$-notation."
   ]
  },
  {
   "cell_type": "markdown",
   "metadata": {},
   "source": [
    "### 2.2-3\n",
    "Consider linear search again (see Exercises 2.1-3). How many elements of the input sequence need to be checked on the average, assuming that the element being search for is equally likely to be any element in the array? How about in the worst case? What are the average-case and worst-case running times of linear search in $\\Theta$-notation? Justify your answers."
   ]
  },
  {
   "cell_type": "markdown",
   "metadata": {},
   "source": [
    "### 2.2-4\n",
    "How can we modify almost any algorithm to have good best-case running time?"
   ]
  }
 ],
 "metadata": {
  "language_info": {
   "name": "python"
  }
 },
 "nbformat": 4,
 "nbformat_minor": 2
}
